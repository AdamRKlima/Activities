{
 "cells": [
  {
   "cell_type": "code",
   "execution_count": 6,
   "metadata": {},
   "outputs": [
    {
     "name": "stdout",
     "output_type": "stream",
     "text": [
      "A\n"
     ]
    }
   ],
   "source": [
    "s = input(\"What is your score\")\n",
    "score = int(s)\n",
    "\n",
    "if score >= 80.0 :\n",
    "    grade = \"A\"\n",
    "elif score >= 60.0 :\n",
    "    grade = \"B\"\n",
    "elif score >= 50.0 :\n",
    "    grade = \"C\"\n",
    "elif score >= 45.0 :\n",
    "    grade = \"D\"\n",
    "elif score >= 25.0 :\n",
    "    grade = \"E\"\n",
    "else :\n",
    "    grade = \"F\"\n",
    "print(grade)"
   ]
  },
  {
   "cell_type": "code",
   "execution_count": 7,
   "metadata": {},
   "outputs": [
    {
     "name": "stdout",
     "output_type": "stream",
     "text": [
      "[0 1 2 3 4]\n"
     ]
    }
   ],
   "source": [
    "import numpy as np\n",
    "\n",
    "np.array([1,2,3])\n",
    "np.array([[1,2,3], [4,5,6]])\n",
    "\n",
    "a = np.array([1,2,3])\n",
    "\n",
    "e = np.arange(5)\n",
    "print(e)"
   ]
  }
 ],
 "metadata": {
  "kernelspec": {
   "display_name": "Python 3",
   "language": "python",
   "name": "python3"
  },
  "language_info": {
   "codemirror_mode": {
    "name": "ipython",
    "version": 3
   },
   "file_extension": ".py",
   "mimetype": "text/x-python",
   "name": "python",
   "nbconvert_exporter": "python",
   "pygments_lexer": "ipython3",
   "version": "3.11.3"
  },
  "orig_nbformat": 4
 },
 "nbformat": 4,
 "nbformat_minor": 2
}
