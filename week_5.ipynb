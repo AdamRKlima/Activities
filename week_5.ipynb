{
 "cells": [
  {
   "cell_type": "code",
   "execution_count": 1,
   "metadata": {},
   "outputs": [
    {
     "name": "stdout",
     "output_type": "stream",
     "text": [
      "[ 0  3  6  9 12]\n"
     ]
    }
   ],
   "source": [
    "import numpy as np\n",
    "\n",
    "array1 = np.array([3,0,9,12,6])\n",
    "print(np.sort(array1))"
   ]
  },
  {
   "cell_type": "code",
   "execution_count": 2,
   "metadata": {},
   "outputs": [
    {
     "name": "stdout",
     "output_type": "stream",
     "text": [
      "[ 0  3  6  9 12]\n"
     ]
    }
   ],
   "source": [
    "import numpy as np\n",
    "\n",
    "array1 = np.array([3,0,9,12,6])\n",
    "array1=np.sort(array1)\n",
    "print(array1)"
   ]
  },
  {
   "cell_type": "code",
   "execution_count": 4,
   "metadata": {},
   "outputs": [
    {
     "name": "stdout",
     "output_type": "stream",
     "text": [
      "[[2 3 4]\n",
      " [0 1 5]]\n",
      "['apple' 'banana' 'cherry']\n"
     ]
    }
   ],
   "source": [
    "array2 = np.array([[3,2,4],[5,0,1]])\n",
    "print(np.sort(array2))\n",
    "\n",
    "array3 = np.array([\"cherry\", \"banana\", \"apple\"])\n",
    "print(np.sort(array3))"
   ]
  },
  {
   "cell_type": "code",
   "execution_count": 10,
   "metadata": {},
   "outputs": [
    {
     "name": "stdout",
     "output_type": "stream",
     "text": [
      "[[ 8  7]\n",
      " [ 9 10]\n",
      " [12 11]\n",
      " [ 2  1]\n",
      " [ 3  4]\n",
      " [ 5  6]]\n",
      "[[ 2  1]\n",
      " [ 3  4]\n",
      " [ 5  6]\n",
      " [ 8  7]\n",
      " [ 9 10]\n",
      " [12 11]]\n"
     ]
    }
   ],
   "source": [
    "arrayx =np.array([[2,1],[3,4]])\n",
    "arrayy = np.array([[5,6]])\n",
    "arrayz= np.array([[8,7],[9,10],[12,11]])\n",
    "arraya=np.concatenate((arrayz,arrayx,arrayy),axis=0)\n",
    "print(arraya)\n",
    "arsrta=np.sort(arraya, axis=0)\n",
    "print(arsrta)"
   ]
  },
  {
   "cell_type": "code",
   "execution_count": 20,
   "metadata": {},
   "outputs": [
    {
     "name": "stdout",
     "output_type": "stream",
     "text": [
      "[[ 2  1  3  4  5  6  8  7  9 10 12 11]]\n",
      "[[101 112 133 224]\n",
      " [235  76 207 148]\n",
      " [319 110 338 174]]\n",
      "Sorted by axis 0 [[101  76 133 148]\n",
      " [235 110 207 174]\n",
      " [319 112 338 224]]\n",
      "Sorted by axis 1 [[101 112 133 224]\n",
      " [ 76 148 207 235]\n",
      " [110 174 319 338]]\n"
     ]
    }
   ],
   "source": [
    "newshape=arsrta.reshape(1,-1)\n",
    "print(newshape)\n",
    "array5 =np.array([[101,112,133,224],\n",
    "                  [235,76,207,148],\n",
    "                  [319,110,338,174]])\n",
    "print(array5)\n",
    "\n",
    "print(\"Sorted by axis 0\",\n",
    "      np.sort(array5,axis=0))\n",
    "print(\"Sorted by axis 1\",\n",
    "      np.sort(array5,axis=1))"
   ]
  },
  {
   "cell_type": "code",
   "execution_count": null,
   "metadata": {},
   "outputs": [],
   "source": [
    "# Unpacking arrays\n",
    "tt = ([ [ [0, 1, 2, 3], [4, 5, 6, 7] ],\n",
    "        [ [10, 11, 12, 13], [14, 15, 16, 17] ],\n",
    "        [[20, 21, 22, 23], [24, 25, 26, 27] ] ])\n",
    "\n",
    "a,b,c=tt\n",
    "\n",
    "a0,a1,=a\n",
    "b0,b1=b\n",
    "c0,c1=c\n"
   ]
  },
  {
   "cell_type": "code",
   "execution_count": null,
   "metadata": {},
   "outputs": [],
   "source": [
    "# unpacking series of nested elements PAY ATTENTION TO THE SQUARE BRACKETS\n",
    "example = ([ [ [0, 1, 2, 3], [14, 15, 16, 17] ],\n",
    "        [ [20, 21, 22, 23], [34, 35, 36, 37] ],\n",
    "        [[40 ,41 ,42, 43], [54, 55, 56, 57] ] ])\n",
    "\n",
    "[[[a,b,c,d], [e,f,g,h]],\n",
    " [[i,j,k,l], [m,n,o,p]],\n",
    " [[q,r,s,t], [u,v,w,x]]] = example\n",
    "print(f\"first group: {a}, {b}, {c}, {d}\")\n",
    "print(f\"second group: {e}, {f}, {g}, {h}\")\n",
    "print(f\"third group: {i}, {j}, {k}, {l}\")\n"
   ]
  },
  {
   "cell_type": "code",
   "execution_count": 21,
   "metadata": {},
   "outputs": [
    {
     "name": "stdout",
     "output_type": "stream",
     "text": [
      "[[3 4 5]\n",
      " [4 5 6]]\n"
     ]
    }
   ],
   "source": [
    "# slicing arrays\n",
    "array2 = np.array([[1,2,3],[3,4,5], [4,5,6]])\n",
    "print(array2[1:])"
   ]
  },
  {
   "cell_type": "code",
   "execution_count": 28,
   "metadata": {},
   "outputs": [
    {
     "name": "stdout",
     "output_type": "stream",
     "text": [
      "max is\n",
      " 95\n",
      "max at 0 is\n",
      " [80 95 70]\n",
      "max is\n",
      " [95 90 70]\n",
      "\n",
      "average\n",
      " is 61.111111111111114\n",
      "average at 0\n",
      " is [53.33333333 83.33333333 46.66666667]\n",
      "average\n",
      " is [61.66666667 66.66666667 55.        ]\n",
      "\n",
      "sum is\n",
      " 550\n",
      "sum is at 0\n",
      " [160 250 140]\n",
      "sum is\n",
      " [185 200 165]\n",
      "\n",
      "median is\n",
      " 65.0\n",
      "median is at 0\n",
      " [50. 90. 60.]\n",
      "median is\n",
      " [80. 60. 65.]\n"
     ]
    }
   ],
   "source": [
    "a = np.array([[80,95,10],[50,90,60],[30,65,70]])\n",
    "print(f'max is\\n {np.max(a)}')\n",
    "print(f'max at 0 is\\n {np.max(a, axis=0)}')\n",
    "print(f'max is\\n {np.max(a,axis=1)}\\n')\n",
    "print(f'average\\n is {np.average(a)}')\n",
    "print(f'average at 0\\n is {np.average(a,axis=0)}')\n",
    "print(f'average\\n is {np.average(a,axis=1)}\\n')\n",
    "print(f'sum is\\n {np.sum(a)}')\n",
    "print(f'sum is at 0\\n {np.sum(a,axis=0)}')\n",
    "print(f'sum is\\n {np.sum(a,axis=1)}\\n')\n",
    "print(f'median is\\n {np.median(a)}')\n",
    "print(f'median is at 0\\n {np.median(a,axis=0)}')\n",
    "print(f'median is\\n {np.median(a,axis=1)}')"
   ]
  }
 ],
 "metadata": {
  "kernelspec": {
   "display_name": "Python 3",
   "language": "python",
   "name": "python3"
  },
  "language_info": {
   "codemirror_mode": {
    "name": "ipython",
    "version": 3
   },
   "file_extension": ".py",
   "mimetype": "text/x-python",
   "name": "python",
   "nbconvert_exporter": "python",
   "pygments_lexer": "ipython3",
   "version": "3.11.3"
  },
  "orig_nbformat": 4
 },
 "nbformat": 4,
 "nbformat_minor": 2
}
