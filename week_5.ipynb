{
 "cells": [
  {
   "cell_type": "code",
   "execution_count": 1,
   "metadata": {},
   "outputs": [
    {
     "name": "stdout",
     "output_type": "stream",
     "text": [
      "[ 0  3  6  9 12]\n"
     ]
    }
   ],
   "source": [
    "import numpy as np\n",
    "\n",
    "array1 = np.array([3,0,9,12,6])\n",
    "print(np.sort(array1))"
   ]
  },
  {
   "cell_type": "code",
   "execution_count": 2,
   "metadata": {},
   "outputs": [
    {
     "name": "stdout",
     "output_type": "stream",
     "text": [
      "[ 0  3  6  9 12]\n"
     ]
    }
   ],
   "source": [
    "import numpy as np\n",
    "\n",
    "array1 = np.array([3,0,9,12,6])\n",
    "array1=np.sort(array1)\n",
    "print(array1)"
   ]
  },
  {
   "cell_type": "code",
   "execution_count": 4,
   "metadata": {},
   "outputs": [
    {
     "name": "stdout",
     "output_type": "stream",
     "text": [
      "[[2 3 4]\n",
      " [0 1 5]]\n",
      "['apple' 'banana' 'cherry']\n"
     ]
    }
   ],
   "source": [
    "array2 = np.array([[3,2,4],[5,0,1]])\n",
    "print(np.sort(array2))\n",
    "\n",
    "array3 = np.array([\"cherry\", \"banana\", \"apple\"])\n",
    "print(np.sort(array3))"
   ]
  },
  {
   "cell_type": "code",
   "execution_count": 10,
   "metadata": {},
   "outputs": [
    {
     "name": "stdout",
     "output_type": "stream",
     "text": [
      "[[ 8  7]\n",
      " [ 9 10]\n",
      " [12 11]\n",
      " [ 2  1]\n",
      " [ 3  4]\n",
      " [ 5  6]]\n",
      "[[ 2  1]\n",
      " [ 3  4]\n",
      " [ 5  6]\n",
      " [ 8  7]\n",
      " [ 9 10]\n",
      " [12 11]]\n"
     ]
    }
   ],
   "source": [
    "arrayx =np.array([[2,1],[3,4]])\n",
    "arrayy = np.array([[5,6]])\n",
    "arrayz= np.array([[8,7],[9,10],[12,11]])\n",
    "arraya=np.concatenate((arrayz,arrayx,arrayy),axis=0)\n",
    "print(arraya)\n",
    "arsrta=np.sort(arraya, axis=0)\n",
    "print(arsrta)"
   ]
  },
  {
   "cell_type": "code",
   "execution_count": 20,
   "metadata": {},
   "outputs": [
    {
     "name": "stdout",
     "output_type": "stream",
     "text": [
      "[[ 2  1  3  4  5  6  8  7  9 10 12 11]]\n",
      "[[101 112 133 224]\n",
      " [235  76 207 148]\n",
      " [319 110 338 174]]\n",
      "Sorted by axis 0 [[101  76 133 148]\n",
      " [235 110 207 174]\n",
      " [319 112 338 224]]\n",
      "Sorted by axis 1 [[101 112 133 224]\n",
      " [ 76 148 207 235]\n",
      " [110 174 319 338]]\n"
     ]
    }
   ],
   "source": [
    "newshape=arsrta.reshape(1,-1)\n",
    "print(newshape)\n",
    "array5 =np.array([[101,112,133,224],\n",
    "                  [235,76,207,148],\n",
    "                  [319,110,338,174]])\n",
    "print(array5)\n",
    "\n",
    "print(\"Sorted by axis 0\",\n",
    "      np.sort(array5,axis=0))\n",
    "print(\"Sorted by axis 1\",\n",
    "      np.sort(array5,axis=1))"
   ]
  },
  {
   "cell_type": "code",
   "execution_count": null,
   "metadata": {},
   "outputs": [],
   "source": [
    "# Unpacking arrays\n",
    "tt = ([ [ [0, 1, 2, 3], [4, 5, 6, 7] ],\n",
    "        [ [10, 11, 12, 13], [14, 15, 16, 17] ],\n",
    "        [[20, 21, 22, 23], [24, 25, 26, 27] ] ])\n",
    "\n",
    "a,b,c=tt\n",
    "\n",
    "a0,a1,=a\n",
    "b0,b1=b\n",
    "c0,c1=c\n"
   ]
  },
  {
   "cell_type": "code",
   "execution_count": null,
   "metadata": {},
   "outputs": [],
   "source": [
    "# unpacking series of nested elements PAY ATTENTION TO THE SQUARE BRACKETS\n",
    "example = ([ [ [0, 1, 2, 3], [14, 15, 16, 17] ],\n",
    "        [ [20, 21, 22, 23], [34, 35, 36, 37] ],\n",
    "        [[40 ,41 ,42, 43], [54, 55, 56, 57] ] ])\n",
    "\n",
    "[[[a,b,c,d], [e,f,g,h]],\n",
    " [[i,j,k,l], [m,n,o,p]],\n",
    " [[q,r,s,t], [u,v,w,x]]] = example\n",
    "print(f\"first group: {a}, {b}, {c}, {d}\")\n",
    "print(f\"second group: {e}, {f}, {g}, {h}\")\n",
    "print(f\"third group: {i}, {j}, {k}, {l}\")\n"
   ]
  },
  {
   "cell_type": "code",
   "execution_count": 21,
   "metadata": {},
   "outputs": [
    {
     "name": "stdout",
     "output_type": "stream",
     "text": [
      "[[3 4 5]\n",
      " [4 5 6]]\n"
     ]
    }
   ],
   "source": [
    "# slicing arrays\n",
    "array2 = np.array([[1,2,3],[3,4,5], [4,5,6]])\n",
    "print(array2[1:])"
   ]
  },
  {
   "cell_type": "code",
   "execution_count": 28,
   "metadata": {},
   "outputs": [
    {
     "name": "stdout",
     "output_type": "stream",
     "text": [
      "max is\n",
      " 95\n",
      "max at 0 is\n",
      " [80 95 70]\n",
      "max is\n",
      " [95 90 70]\n",
      "\n",
      "average\n",
      " is 61.111111111111114\n",
      "average at 0\n",
      " is [53.33333333 83.33333333 46.66666667]\n",
      "average\n",
      " is [61.66666667 66.66666667 55.        ]\n",
      "\n",
      "sum is\n",
      " 550\n",
      "sum is at 0\n",
      " [160 250 140]\n",
      "sum is\n",
      " [185 200 165]\n",
      "\n",
      "median is\n",
      " 65.0\n",
      "median is at 0\n",
      " [50. 90. 60.]\n",
      "median is\n",
      " [80. 60. 65.]\n"
     ]
    }
   ],
   "source": [
    "a = np.array([[80,95,10],[50,90,60],[30,65,70]])\n",
    "print(f'max is\\n {np.max(a)}')\n",
    "print(f'max at 0 is\\n {np.max(a, axis=0)}')\n",
    "print(f'max is\\n {np.max(a,axis=1)}\\n')\n",
    "print(f'average\\n is {np.average(a)}')\n",
    "print(f'average at 0\\n is {np.average(a,axis=0)}')\n",
    "print(f'average\\n is {np.average(a,axis=1)}\\n')\n",
    "print(f'sum is\\n {np.sum(a)}')\n",
    "print(f'sum is at 0\\n {np.sum(a,axis=0)}')\n",
    "print(f'sum is\\n {np.sum(a,axis=1)}\\n')\n",
    "print(f'median is\\n {np.median(a)}')\n",
    "print(f'median is at 0\\n {np.median(a,axis=0)}')\n",
    "print(f'median is\\n {np.median(a,axis=1)}')"
   ]
  },
  {
   "cell_type": "code",
   "execution_count": 3,
   "metadata": {},
   "outputs": [
    {
     "name": "stdout",
     "output_type": "stream",
     "text": [
      "0    20\n",
      "1    40\n",
      "2    60\n",
      "dtype: int64\n",
      "20\n"
     ]
    }
   ],
   "source": [
    "import numpy as np\n",
    "import pandas as pd\n",
    "\n",
    "age = [20,40,60]\n",
    "years=pd.Series(age)\n",
    "print(years)\n",
    "print(years[0])"
   ]
  },
  {
   "cell_type": "code",
   "execution_count": 18,
   "metadata": {},
   "outputs": [
    {
     "name": "stdout",
     "output_type": "stream",
     "text": [
      "{'apples': [3, 2, 0, 1], 'oranges': [0, 3, 7, 2]}\n",
      "\n",
      "    apples  oranges\n",
      "0       3        0\n",
      "1       2        3\n",
      "2       0        7\n",
      "3       1        2\n",
      "\n",
      "         apples  oranges\n",
      "June         3        0\n",
      "Robert       2        3\n",
      "Lily         0        7\n",
      "David        1        2 \n",
      "\n",
      "\n",
      " June      0\n",
      "Robert    3\n",
      "Lily      7\n",
      "David     2\n",
      "Name: oranges, dtype: int64\n"
     ]
    }
   ],
   "source": [
    "data = {\n",
    "    \"apples\": [3, 2, 0, 1],\n",
    "    \"oranges\": [0, 3, 7, 2]\n",
    "}\n",
    "print(data)\n",
    "purchases=pd.DataFrame(data)\n",
    "print('\\n', purchases)\n",
    "purchases=pd.DataFrame(data, index=[\"June\", \"Robert\",'Lily','David'])\n",
    "print(\"\\n\", purchases,'\\n')\n",
    "\n",
    "print('\\n',purchases[\"oranges\"],)"
   ]
  },
  {
   "cell_type": "code",
   "execution_count": 26,
   "metadata": {},
   "outputs": [
    {
     "name": "stdout",
     "output_type": "stream",
     "text": [
      "   Classes  Grades\n",
      "0     Math      87\n",
      "1  Science      80\n",
      "2  Spanish      98\n",
      "3  History      60\n",
      "4   Health     100\n",
      "Classes    History\n",
      "Grades          60\n",
      "Name: 3, dtype: object\n",
      "   Classes  Grades\n",
      "0     Math      87\n",
      "3  History      60\n",
      "       Classes  Grades\n",
      "week1     Math      87\n",
      "Week2  Science      80\n",
      "week3  Spanish      98\n",
      "week4  History      60\n",
      "Week5   Health     100\n"
     ]
    }
   ],
   "source": [
    "report={\n",
    "    'Classes': ['Math','Science','Spanish','History','Health'],\n",
    "    'Grades':[87,80,98,60,100]\n",
    "}\n",
    "results=pd.DataFrame(report)\n",
    "print(results)\n",
    "print(results.loc[3])\n",
    "print(results.loc[[0,3]])\n",
    "results=pd.DataFrame(report,index=['week1','Week2','week3','week4','Week5'])\n",
    "print(results)\n",
    "# print(results.loc['Week2','Week5'])"
   ]
  },
  {
   "cell_type": "code",
   "execution_count": 34,
   "metadata": {},
   "outputs": [
    {
     "name": "stdout",
     "output_type": "stream",
     "text": [
      "         Country  Year   Population Continent\n",
      "0    Afghanistan  1952    8425333.0      Asia\n",
      "1      Australia  1957    9712569.0   Oceania\n",
      "2         Brazil  1962   76039390.0  Americas\n",
      "3          China  1957  637408000.0      Asia\n",
      "4         France  1957   44310863.0    Europe\n",
      "5          India  1952  372000000.0      Asia\n",
      "6   South Africa  1966          NaN    Africa\n",
      "7  United States  1957  171984000.0  Americas\n",
      "\n",
      "          Country  Year   Population Continent\n",
      "6   South Africa  1966          NaN    Africa\n",
      "2         Brazil  1962   76039390.0  Americas\n",
      "7  United States  1957  171984000.0  Americas\n",
      "0    Afghanistan  1952    8425333.0      Asia\n",
      "3          China  1957  637408000.0      Asia\n",
      "5          India  1952  372000000.0      Asia\n",
      "4         France  1957   44310863.0    Europe\n",
      "1      Australia  1957    9712569.0   Oceania\n",
      "\n",
      "          Country  Year   Population Continent\n",
      "3          China  1957  637408000.0      Asia\n",
      "5          India  1952  372000000.0      Asia\n",
      "7  United States  1957  171984000.0  Americas\n",
      "2         Brazil  1962   76039390.0  Americas\n",
      "4         France  1957   44310863.0    Europe\n",
      "1      Australia  1957    9712569.0   Oceania\n",
      "0    Afghanistan  1952    8425333.0      Asia\n",
      "6   South Africa  1966          NaN    Africa\n",
      "\n",
      "          Country  Year   Population Continent\n",
      "6   South Africa  1966          NaN    Africa\n",
      "0    Afghanistan  1952    8425333.0      Asia\n",
      "1      Australia  1957    9712569.0   Oceania\n",
      "4         France  1957   44310863.0    Europe\n",
      "2         Brazil  1962   76039390.0  Americas\n",
      "7  United States  1957  171984000.0  Americas\n",
      "5          India  1952  372000000.0      Asia\n",
      "3          China  1957  637408000.0      Asia\n"
     ]
    }
   ],
   "source": [
    "population_list = [['Afghanistan', 1952, 8425333, 'Asia'],\n",
    "            ['Australia', 1957, 9712569, 'Oceania'],\n",
    "            ['Brazil', 1962, 76039390, 'Americas'],\n",
    "            ['China', 1957, 637408000, 'Asia'],\n",
    "            ['France', 1957, 44310863, 'Europe'],\n",
    "            ['India', 1952, 3.72e+08, 'Asia'],\n",
    "            ['South Africa', 1966, np.NaN, 'Africa'],\n",
    "            ['United States', 1957, 171984000, 'Americas']]\n",
    "df=pd.DataFrame(population_list, columns=['Country','Year','Population','Continent'])\n",
    "print(df)\n",
    "df.sort_values(by=[\"Continent\"],inplace=True)\n",
    "print('\\n',df)\n",
    "df.sort_values(by=['Population'], inplace=True, ascending=False)\n",
    "print('\\n',df)\n",
    "df.sort_values(by=['Population'], inplace=True, na_position='first')\n",
    "print('\\n',df)"
   ]
  },
  {
   "cell_type": "code",
   "execution_count": 37,
   "metadata": {},
   "outputs": [
    {
     "name": "stdout",
     "output_type": "stream",
     "text": [
      "         Country  Year   Population Continent\n",
      "6   South Africa  1966          NaN    Africa\n",
      "7  United States  1957  171984000.0  Americas\n",
      "2         Brazil  1962   76039390.0  Americas\n",
      "5          India  1952  372000000.0      Asia\n",
      "3          China  1957  637408000.0      Asia\n",
      "0    Afghanistan  1952    8425333.0      Asia\n",
      "4         France  1957   44310863.0    Europe\n",
      "1      Australia  1957    9712569.0   Oceania\n"
     ]
    }
   ],
   "source": [
    "population_list = [['Afghanistan', 1952, 8425333, 'Asia'],\n",
    "            ['Australia', 1957, 9712569, 'Oceania'],\n",
    "            ['Brazil', 1962, 76039390, 'Americas'],\n",
    "            ['China', 1957, 637408000, 'Asia'],\n",
    "            ['France', 1957, 44310863, 'Europe'],\n",
    "            ['India', 1952, 3.72e+08, 'Asia'],\n",
    "            ['South Africa', 1966, np.NaN, 'Africa'],\n",
    "            ['United States', 1957, 171984000, 'Americas']]\n",
    "df=pd.DataFrame(population_list, columns=['Country','Year','Population','Continent'])\n",
    "df.sort_values(by=['Continent','Country'],inplace=True, ascending=[True,False])\n",
    "print(df)"
   ]
  },
  {
   "cell_type": "code",
   "execution_count": 46,
   "metadata": {},
   "outputs": [
    {
     "name": "stdout",
     "output_type": "stream",
     "text": [
      "\n",
      "       Name  Height  Age                   Industry       State  Pets   \n",
      "0  Dakotah     6.0   30                    Finance      Jersey   dog  \\\n",
      "1   Shelly     5.5   38                         IT    Missouri   cat   \n",
      "2     Trey     5.8   33         Personnel Tracking    Virginia  none   \n",
      "3    Chris     6.0   33                   Hospital  California   dog   \n",
      "4      Sam     5.1   36               Govt Finance        Ohio  fish   \n",
      "5     Nick     6.2   37                   Software      Nevada  none   \n",
      "6    Habum     6.0   33                         IT      Nevada   cat   \n",
      "7   Carlos     5.8   29  Water Resource Management  California   dog   \n",
      "\n",
      "        Sport  \n",
      "0        None  \n",
      "1  Volleyball  \n",
      "2    Baseball  \n",
      "3  Volleyball  \n",
      "4      Soccer  \n",
      "5        None  \n",
      "6  Basketball  \n",
      "7  Pickleball  \n"
     ]
    }
   ],
   "source": [
    "data={\n",
    "    'Name':['Dakotah','Shelly','Trey','Chris','Sam','Nick','Habum','Carlos'],\n",
    "    'Height':[6.0, 5.5, 5.8, 6.0, 5.10, 6.2, 6.0, 5.8],\n",
    "    'Industry':['Finance','IT', \"Personnel Tracking\", \"Hospital\", \"Govt Finance\", \"Software\", \"IT\", \"Water Resource Management\"]\n",
    "}\n",
    "df=pd.DataFrame(data)\n",
    "# print(df)\n",
    "states=['Jersey','Missouri','Virginia','California','Ohio','Nevada','Nevada','California']\n",
    "df['State']=states\n",
    "# print('\\n',df)\n",
    "ages=[30,38,33,33,36,37,33,29]\n",
    "df.insert(2,\"Age\",ages,allow_duplicates=True)\n",
    "# print('\\n',df)\n",
    "pets = [\"dog\", \"cat\", \"none\", \"dog\", \"fish\", \"none\", \"cat\", \"dog\"]\n",
    "df = df.assign(Pets=pets)\n",
    "# print('\\n',df)\n",
    "sports = {\"Shelly\": \"Volleyball\", \"Dakotah\": \"None\", \"Carlos\": \"Pickleball\", \"Trey\": \"Baseball\", \"Chris\": \"Volleyball\", \"Sam\":\"Soccer\", \"Habum\":\"Basketball\", \"Nick\":\"None\"}\n",
    "df[\"Sport\"]=df[\"Name\"].map(sports)\n",
    "print('\\n',df)"
   ]
  }
 ],
 "metadata": {
  "kernelspec": {
   "display_name": "Python 3",
   "language": "python",
   "name": "python3"
  },
  "language_info": {
   "codemirror_mode": {
    "name": "ipython",
    "version": 3
   },
   "file_extension": ".py",
   "mimetype": "text/x-python",
   "name": "python",
   "nbconvert_exporter": "python",
   "pygments_lexer": "ipython3",
   "version": "3.11.3"
  },
  "orig_nbformat": 4
 },
 "nbformat": 4,
 "nbformat_minor": 2
}
