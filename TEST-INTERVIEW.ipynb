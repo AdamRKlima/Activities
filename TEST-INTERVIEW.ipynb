{
 "cells": [
  {
   "attachments": {},
   "cell_type": "markdown",
   "metadata": {},
   "source": [
    "#### first you need to set up an input for your data\n",
    "#### then you need to set up a try block to pass the input through int func"
   ]
  },
  {
   "cell_type": "code",
   "execution_count": 16,
   "metadata": {},
   "outputs": [],
   "source": [
    "def numsum(fstnum,scndnum):\n",
    "    fstnum=input('Enter a number')\n",
    "    scndnum=input('Enter a number')\n",
    "    try:\n",
    "        fstn=int(fstnum)\n",
    "        sndn=int(scndnum)\n",
    "        if fstn == scndnum:\n",
    "            a = (3*(fstn+sndn))\n",
    "            return a \n",
    "        else:\n",
    "            a=(fstn+sndn)\n",
    "            return a\n",
    "    except:\n",
    "        a=print(\"Please enter a whole number\")\n",
    "\n"
   ]
  },
  {
   "attachments": {},
   "cell_type": "markdown",
   "metadata": {},
   "source": [
    "establish base\n",
    "write for loop passing through list\n",
    "have the for loop compare number to previous highest amount\n"
   ]
  },
  {
   "cell_type": "code",
   "execution_count": 17,
   "metadata": {},
   "outputs": [
    {
     "name": "stdout",
     "output_type": "stream",
     "text": [
      "351436435\n"
     ]
    }
   ],
   "source": [
    "largest=-100\n",
    "for numb in [5,68,46,3,-5,654,8768,54654,351436435,564]:\n",
    "    if numb >largest:\n",
    "        largest=numb\n",
    "print(largest)"
   ]
  },
  {
   "cell_type": "code",
   "execution_count": 24,
   "metadata": {},
   "outputs": [
    {
     "name": "stdout",
     "output_type": "stream",
     "text": [
      "Please enter a whole number\n",
      "351436435\n"
     ]
    }
   ],
   "source": [
    "c=[]\n",
    "try:\n",
    "    while True:\n",
    "        a=input(\"Enter a whole number\")\n",
    "        if a == \"done\":\n",
    "             break\n",
    "+        b=int(a)\n",
    "+        c=c.append(a)\n",
    "            break\n",
    "    largest =-100\n",
    "    for numb in c:\n",
    "        if numb >largest:\n",
    "            largest=numb\n",
    "except:\n",
    "    print(\"Please enter a whole number\")\n",
    "print(largest)\n"
   ]
  },
  {
   "cell_type": "code",
   "execution_count": 128,
   "metadata": {},
   "outputs": [
    {
     "name": "stdout",
     "output_type": "stream",
     "text": [
      "5 is equal to 5\n"
     ]
    }
   ],
   "source": [
    "# import random\n",
    "# establish var using random function\n",
    "# create if/elif/else statement comparing random number to value of 5\n",
    "import random\n",
    "\n",
    "a = random.randrange(10)\n",
    "def newfun(num):\n",
    "    if a > 5:\n",
    "        print (a, 'is greater than 5')\n",
    "    elif a ==5:\n",
    "        print(a, \"is equal to 5\")\n",
    "    else:\n",
    "        print(a,'is not greater that 5')\n",
    "newfun(a)"
   ]
  },
  {
   "attachments": {},
   "cell_type": "markdown",
   "metadata": {},
   "source": [
    "import random\n",
    "establish var using random function\n",
    "create if/elif/else statement comparing random number to value of 5"
   ]
  },
  {
   "cell_type": "code",
   "execution_count": 133,
   "metadata": {},
   "outputs": [
    {
     "name": "stdout",
     "output_type": "stream",
     "text": [
      "8\n"
     ]
    }
   ],
   "source": []
  },
  {
   "attachments": {},
   "cell_type": "markdown",
   "metadata": {},
   "source": []
  }
 ],
 "metadata": {
  "kernelspec": {
   "display_name": "Python 3",
   "language": "python",
   "name": "python3"
  },
  "language_info": {
   "codemirror_mode": {
    "name": "ipython",
    "version": 3
   },
   "file_extension": ".py",
   "mimetype": "text/x-python",
   "name": "python",
   "nbconvert_exporter": "python",
   "pygments_lexer": "ipython3",
   "version": "3.11.3"
  },
  "orig_nbformat": 4
 },
 "nbformat": 4,
 "nbformat_minor": 2
}
